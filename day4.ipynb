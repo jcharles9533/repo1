{
  "cells": [
    {
      "metadata": {
        "trusted": true
      },
      "cell_type": "code",
      "source": "x=5\ny=3\nx+y",
      "execution_count": 2,
      "outputs": [
        {
          "output_type": "execute_result",
          "execution_count": 2,
          "data": {
            "text/plain": "8"
          },
          "metadata": {}
        }
      ]
    },
    {
      "metadata": {
        "trusted": true
      },
      "cell_type": "code",
      "source": "print (\"Don\\'t\")",
      "execution_count": 3,
      "outputs": [
        {
          "output_type": "stream",
          "text": "Don't\n",
          "name": "stdout"
        }
      ]
    },
    {
      "metadata": {
        "trusted": true
      },
      "cell_type": "code",
      "source": "print (\"Don't\")",
      "execution_count": 4,
      "outputs": [
        {
          "output_type": "stream",
          "text": "Don't\n",
          "name": "stdout"
        }
      ]
    },
    {
      "metadata": {
        "trusted": true
      },
      "cell_type": "code",
      "source": "print (\"Shouldn't\")",
      "execution_count": 5,
      "outputs": [
        {
          "output_type": "stream",
          "text": "Shouldn't\n",
          "name": "stdout"
        }
      ]
    },
    {
      "metadata": {
        "trusted": true
      },
      "cell_type": "code",
      "source": "words=\"GIS Rules!\" \nprint (words[4])",
      "execution_count": 7,
      "outputs": [
        {
          "output_type": "stream",
          "text": "R\n",
          "name": "stdout"
        }
      ]
    },
    {
      "metadata": {
        "trusted": true
      },
      "cell_type": "code",
      "source": "x=100\nfor n in range(1,5):\n   x=x*n \nprint (x)",
      "execution_count": 13,
      "outputs": [
        {
          "output_type": "stream",
          "text": "2400\n",
          "name": "stdout"
        }
      ]
    },
    {
      "metadata": {
        "trusted": true
      },
      "cell_type": "code",
      "source": "\"GIS Rules!\" \nprint (words [:-1])",
      "execution_count": 15,
      "outputs": [
        {
          "output_type": "stream",
          "text": "GIS Rules\n",
          "name": "stdout"
        }
      ]
    },
    {
      "metadata": {
        "trusted": true
      },
      "cell_type": "code",
      "source": "e=137%2\nz=5*50\nfinal=e*z+3\nprint(final)",
      "execution_count": 8,
      "outputs": [
        {
          "output_type": "stream",
          "text": "253\n",
          "name": "stdout"
        }
      ]
    },
    {
      "metadata": {
        "trusted": true
      },
      "cell_type": "code",
      "source": "name=input(\"What is your name?\\n\")\nprint(\"Hello \", name)",
      "execution_count": 9,
      "outputs": [
        {
          "output_type": "stream",
          "name": "stdout",
          "text": "What is your name?\nJchuck\nHello  Jchuck\n"
        }
      ]
    },
    {
      "metadata": {
        "trusted": true
      },
      "cell_type": "code",
      "source": "martha=1<4\nprint(martha)",
      "execution_count": 10,
      "outputs": [
        {
          "output_type": "stream",
          "text": "True\n",
          "name": "stdout"
        }
      ]
    },
    {
      "metadata": {
        "trusted": true
      },
      "cell_type": "code",
      "source": "martha=1==4\nprint(martha)",
      "execution_count": 11,
      "outputs": [
        {
          "output_type": "stream",
          "text": "False\n",
          "name": "stdout"
        }
      ]
    },
    {
      "metadata": {
        "trusted": true
      },
      "cell_type": "code",
      "source": "beyonce=37\nfavorite_flavor=\"vanilla\"\nheight_in_cm=172.2\nprint(type(beyonce))\nprint(type(favorite_flavor))\nprint(type(height_in_cm))",
      "execution_count": 14,
      "outputs": [
        {
          "output_type": "stream",
          "text": "<class 'int'>\n<class 'str'>\n<class 'float'>\n",
          "name": "stdout"
        }
      ]
    },
    {
      "metadata": {
        "trusted": true
      },
      "cell_type": "code",
      "source": "x={1,2,3,4,5}\nprint(x)\nfor x in range (1,6):\n    print(x)",
      "execution_count": 16,
      "outputs": [
        {
          "output_type": "stream",
          "text": "{1, 2, 3, 4, 5}\n1\n2\n3\n4\n5\n",
          "name": "stdout"
        }
      ]
    },
    {
      "metadata": {
        "trusted": true
      },
      "cell_type": "code",
      "source": "color_list=[\"red\", \"green\", \"white\", \"black\"]\nprint(color_list[0])\nprint(color_list[3])",
      "execution_count": 17,
      "outputs": [
        {
          "output_type": "stream",
          "text": "red\nblack\n",
          "name": "stdout"
        }
      ]
    },
    {
      "metadata": {
        "trusted": true
      },
      "cell_type": "code",
      "source": "",
      "execution_count": null,
      "outputs": []
    }
  ],
  "metadata": {
    "kernelspec": {
      "name": "python36",
      "display_name": "Python 3.6",
      "language": "python"
    },
    "language_info": {
      "mimetype": "text/x-python",
      "nbconvert_exporter": "python",
      "name": "python",
      "pygments_lexer": "ipython3",
      "version": "3.6.6",
      "file_extension": ".py",
      "codemirror_mode": {
        "version": 3,
        "name": "ipython"
      }
    }
  },
  "nbformat": 4,
  "nbformat_minor": 2
}